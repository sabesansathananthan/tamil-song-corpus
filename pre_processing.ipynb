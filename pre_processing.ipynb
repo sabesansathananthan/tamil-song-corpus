{
  "nbformat": 4,
  "nbformat_minor": 0,
  "metadata": {
    "colab": {
      "name": "pre-processing.ipynb",
      "provenance": [],
      "collapsed_sections": []
    },
    "kernelspec": {
      "name": "python3",
      "display_name": "Python 3"
    }
  },
  "cells": [
    {
      "cell_type": "code",
      "metadata": {
        "id": "Uz1B-K3UXmCz",
        "colab_type": "code",
        "colab": {}
      },
      "source": [
        "!pip install translate\n",
        "import json\n",
        "import random\n",
        "from translate import Translator\n",
        "\n",
        "def tamilTransilate(name):\n",
        "  translator= Translator(from_lang=\"english\",to_lang=\"tamil\")\n",
        "  print(type(name))\n",
        "  details=json.loads(name)\n",
        "  movie_songs=details.get(\"movie_song\")\n",
        "\n",
        "  out={\n",
        "      \"movie_name\":  details.get(\"movie_name\"), \n",
        "      \"song_name\": (details.get(\"song_name\"))[1][:-3].strip('\\n'), \n",
        "      \"song_music\":translator.translate(movie_song.get(\"song_music\")),\n",
        "      \"song_lyrics\":translator.translate(movie_song.get(\"song_lyrics\")),\n",
        "      \"song_singers\":translator.translate(movie_song.get(\"song_singers\")),\n",
        "      \"year\":  details.get(\"year\"), \n",
        "      \"actors\": details.get(\"actors\"), \n",
        "      \"song_rating\": random.randint(1,5),\n",
        "      \"song_url\":details.get(\"song_url\"),\n",
        "      \"song_fulllyrics\": details.get(\"song_fulllyrics\")\n",
        "  }\n",
        "  return out\n",
        "\n",
        "myfile = open('tamil_songs_corpus_final.txt', 'a')\n",
        "fileh = open(\"tamil_songs_corpus.txt\", encoding='utf-8', errors='ignore')\n",
        "for line in fileh:\n",
        "    writes=tamilTransilate(line)\n",
        "    newrow='{ \"index\" : { \"_index\" : \"songs_db_index\", \"_type\" : \"songs\", \"_id\" :'+str(a)+' }}'\n",
        "    myfile.write(newrow + '\\n')\n",
        "    myfile.write(str(writes)+'\\n')"
      ],
      "execution_count": null,
      "outputs": []
    }
  ]
}